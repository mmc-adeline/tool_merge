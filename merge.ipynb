{
 "cells": [
  {
   "cell_type": "code",
   "execution_count": 1,
   "metadata": {
    "scrolled": true
   },
   "outputs": [
    {
     "name": "stdout",
     "output_type": "stream",
     "text": [
      "Hello. This script will read all the xlsx or csv files in the folder where you put this python notebook (ipynb file). To start, please tell me whether you want to read all the excel or all the csv files by entering excel or csv\n",
      "excel\n"
     ]
    }
   ],
   "source": [
    "read_all_option = input('Hello. This script will read all the xlsx or csv files in the folder where you put this python notebook (ipynb file). To start, please tell me whether you want to read all the excel or all the csv files by entering excel or csv\\n')"
   ]
  },
  {
   "cell_type": "code",
   "execution_count": 2,
   "metadata": {
    "scrolled": true
   },
   "outputs": [
    {
     "name": "stdout",
     "output_type": "stream",
     "text": [
      "merged 2 files successfully...\n",
      "merged 3 files successfully...\n",
      "merged 4 files successfully...\n",
      "merged 5 files successfully...\n",
      "merged 6 files successfully...\n",
      "merged 7 files successfully...\n",
      "Merge complete.\n",
      "These are the files which were merged: ['Order.all.20220901_20220930_part_1_of_6.xlsx', 'Order.all.20220901_20220930_part_2_of_6.xlsx', 'Order.all.20220901_20220930_part_3_of_6.xlsx', 'Order.all.20220901_20220930_part_4_of_6.xlsx', 'Order.all.20220901_20220930_part_5_of_6.xlsx', 'Order.all.20220901_20220930_part_6_of_6.xlsx', 'shopee_sept2022withdup.xlsx']\n"
     ]
    }
   ],
   "source": [
    "#This file instructs the computer to read all files in a folder with .xlsx and merge them together (SQL UNION).\n",
    "import pandas as pd\n",
    "import os\n",
    "path = os.getcwd()\n",
    "all_files = os.listdir(path)\n",
    "if read_all_option == 'excel':\n",
    "    xlsx_files = []\n",
    "    for i in all_files:\n",
    "        if '.xlsx' in i:\n",
    "            xlsx_files.append(i)\n",
    "        else:\n",
    "            continue\n",
    "    for i in range(len(xlsx_files)): #xlsx files are ambiguous here. They could refer to csv files if the user chose csv files.\n",
    "        if i == 0:\n",
    "            merged_df = pd.read_excel(xlsx_files[i])\n",
    "        else:\n",
    "            merged_df = pd.concat([merged_df, pd.read_excel(xlsx_files[i])])\n",
    "            print('merged', i+1, 'files successfully...')\n",
    "    print('Merge complete.')    \n",
    "if read_all_option == 'csv':\n",
    "    xlsx_files = []\n",
    "    for i in all_files:\n",
    "        if '.csv' in i:\n",
    "            xlsx_files.append(i)\n",
    "        else:\n",
    "            continue  \n",
    "    for i in range(len(xlsx_files)): #xlsx files are ambiguous here. They could refer to csv files if the user chose csv files.\n",
    "        if i == 0:\n",
    "            merged_df = pd.read_csv(xlsx_files[i], low_memory = False)\n",
    "        else:\n",
    "            merged_df = pd.concat([merged_df, pd.read_csv(xlsx_files[i], low_memory = False)])\n",
    "            print('merged', i+1, 'files successfully...')\n",
    "    print('Merge complete.')    \n",
    "print('These are the files which were merged:', xlsx_files)"
   ]
  },
  {
   "cell_type": "code",
   "execution_count": 3,
   "metadata": {},
   "outputs": [
    {
     "name": "stdout",
     "output_type": "stream",
     "text": [
      "Remove duplicates? Input yes/no\n",
      "no\n"
     ]
    }
   ],
   "source": [
    "remove_duplicates_yes_no = input('Remove duplicates? Input yes/no\\n')\n",
    "if remove_duplicates_yes_no == 'yes':\n",
    "    merged_df = merged_df.drop_duplicates().reset_index(drop=True)"
   ]
  },
  {
   "cell_type": "code",
   "execution_count": null,
   "metadata": {},
   "outputs": [
    {
     "name": "stdout",
     "output_type": "stream",
     "text": [
      "Do you want to download the output dataframe to csv, excel, or not? Enter csv if csv, or excel if excel, or no if you do not want to download.\n",
      "excel\n"
     ]
    }
   ],
   "source": [
    "download_format = input('Do you want to download the output dataframe to csv, excel, or not? Enter csv if csv, or excel if excel, or no if you do not want to download.\\n')\n",
    "if download_format == 'csv':\n",
    "    f_name = input('Please enter the desired file name. Example: abc.csv')\n",
    "    merged_df.to_csv(f_name)\n",
    "    print('CSV file successfully downloaded. Please check the current working directory to see your file.')\n",
    "elif download_format == 'excel':\n",
    "    f_name = input('Please enter the desired file name. Example: abc.csv')\n",
    "    merged_df.to_excel(f_name)\n",
    "    print('Excel file successfully downloaded. Please check the current working directory to see your file.')\n",
    "else:\n",
    "    pass"
   ]
  },
  {
   "cell_type": "code",
   "execution_count": null,
   "metadata": {},
   "outputs": [],
   "source": []
  }
 ],
 "metadata": {
  "kernelspec": {
   "display_name": "Python 3 (ipykernel)",
   "language": "python",
   "name": "python3"
  },
  "language_info": {
   "codemirror_mode": {
    "name": "ipython",
    "version": 3
   },
   "file_extension": ".py",
   "mimetype": "text/x-python",
   "name": "python",
   "nbconvert_exporter": "python",
   "pygments_lexer": "ipython3",
   "version": "3.9.12"
  }
 },
 "nbformat": 4,
 "nbformat_minor": 4
}
